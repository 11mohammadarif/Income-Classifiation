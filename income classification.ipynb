{
 "cells": [
  {
   "cell_type": "code",
   "execution_count": 2,
   "id": "914f8f9e",
   "metadata": {},
   "outputs": [],
   "source": [
    "import numpy as np\n",
    "import pandas as pd\n",
    "\n",
    "import matplotlib.pyplot as plt\n",
    "import seaborn as sns\n",
    "\n",
    "from sklearn.preprocessing import MinMaxScaler\n",
    "from sklearn.model_selection import train_test_split\n",
    "\n",
    "from sklearn.tree import DecisionTreeClassifier\n",
    "from sklearn.linear_model import LogisticRegression\n",
    "from sklearn.neighbors import KNeighborsClassifier\n",
    "# from sklearn.naive_bayes import GaussianNB\n",
    "# from sklearn.svm import SVC\n",
    "\n",
    "from sklearn.metrics import accuracy_score"
   ]
  },
  {
   "cell_type": "markdown",
   "id": "2e7ef155",
   "metadata": {},
   "source": [
    "# 1. Exploratory Data Analysis"
   ]
  },
  {
   "cell_type": "code",
   "execution_count": 10,
   "id": "69a19a47",
   "metadata": {},
   "outputs": [],
   "source": [
    "pd.set_option('float_format', '{:.3f}'.format)"
   ]
  },
  {
   "cell_type": "code",
   "execution_count": 11,
   "id": "007d12ef",
   "metadata": {},
   "outputs": [
    {
     "data": {
      "text/html": [
       "<div>\n",
       "<style scoped>\n",
       "    .dataframe tbody tr th:only-of-type {\n",
       "        vertical-align: middle;\n",
       "    }\n",
       "\n",
       "    .dataframe tbody tr th {\n",
       "        vertical-align: top;\n",
       "    }\n",
       "\n",
       "    .dataframe thead th {\n",
       "        text-align: right;\n",
       "    }\n",
       "</style>\n",
       "<table border=\"1\" class=\"dataframe\">\n",
       "  <thead>\n",
       "    <tr style=\"text-align: right;\">\n",
       "      <th></th>\n",
       "      <th>age</th>\n",
       "      <th>workclass</th>\n",
       "      <th>fnlwgt</th>\n",
       "      <th>education</th>\n",
       "      <th>education-num</th>\n",
       "      <th>marital-status</th>\n",
       "      <th>occupation</th>\n",
       "      <th>relationship</th>\n",
       "      <th>race</th>\n",
       "      <th>sex</th>\n",
       "      <th>capital-gain</th>\n",
       "      <th>capital-loss</th>\n",
       "      <th>hours-per-week</th>\n",
       "      <th>native-country</th>\n",
       "      <th>income</th>\n",
       "    </tr>\n",
       "  </thead>\n",
       "  <tbody>\n",
       "    <tr>\n",
       "      <th>0</th>\n",
       "      <td>39</td>\n",
       "      <td>State-gov</td>\n",
       "      <td>77516</td>\n",
       "      <td>Bachelors</td>\n",
       "      <td>13</td>\n",
       "      <td>Never-married</td>\n",
       "      <td>Adm-clerical</td>\n",
       "      <td>Not-in-family</td>\n",
       "      <td>White</td>\n",
       "      <td>Male</td>\n",
       "      <td>2174</td>\n",
       "      <td>0</td>\n",
       "      <td>40</td>\n",
       "      <td>United-States</td>\n",
       "      <td>&lt;=50K</td>\n",
       "    </tr>\n",
       "    <tr>\n",
       "      <th>1</th>\n",
       "      <td>50</td>\n",
       "      <td>Self-emp-not-inc</td>\n",
       "      <td>83311</td>\n",
       "      <td>Bachelors</td>\n",
       "      <td>13</td>\n",
       "      <td>Married-civ-spouse</td>\n",
       "      <td>Exec-managerial</td>\n",
       "      <td>Husband</td>\n",
       "      <td>White</td>\n",
       "      <td>Male</td>\n",
       "      <td>0</td>\n",
       "      <td>0</td>\n",
       "      <td>13</td>\n",
       "      <td>United-States</td>\n",
       "      <td>&lt;=50K</td>\n",
       "    </tr>\n",
       "    <tr>\n",
       "      <th>2</th>\n",
       "      <td>38</td>\n",
       "      <td>Private</td>\n",
       "      <td>215646</td>\n",
       "      <td>HS-grad</td>\n",
       "      <td>9</td>\n",
       "      <td>Divorced</td>\n",
       "      <td>Handlers-cleaners</td>\n",
       "      <td>Not-in-family</td>\n",
       "      <td>White</td>\n",
       "      <td>Male</td>\n",
       "      <td>0</td>\n",
       "      <td>0</td>\n",
       "      <td>40</td>\n",
       "      <td>United-States</td>\n",
       "      <td>&lt;=50K</td>\n",
       "    </tr>\n",
       "    <tr>\n",
       "      <th>3</th>\n",
       "      <td>53</td>\n",
       "      <td>Private</td>\n",
       "      <td>234721</td>\n",
       "      <td>11th</td>\n",
       "      <td>7</td>\n",
       "      <td>Married-civ-spouse</td>\n",
       "      <td>Handlers-cleaners</td>\n",
       "      <td>Husband</td>\n",
       "      <td>Black</td>\n",
       "      <td>Male</td>\n",
       "      <td>0</td>\n",
       "      <td>0</td>\n",
       "      <td>40</td>\n",
       "      <td>United-States</td>\n",
       "      <td>&lt;=50K</td>\n",
       "    </tr>\n",
       "    <tr>\n",
       "      <th>4</th>\n",
       "      <td>28</td>\n",
       "      <td>Private</td>\n",
       "      <td>338409</td>\n",
       "      <td>Bachelors</td>\n",
       "      <td>13</td>\n",
       "      <td>Married-civ-spouse</td>\n",
       "      <td>Prof-specialty</td>\n",
       "      <td>Wife</td>\n",
       "      <td>Black</td>\n",
       "      <td>Female</td>\n",
       "      <td>0</td>\n",
       "      <td>0</td>\n",
       "      <td>40</td>\n",
       "      <td>Cuba</td>\n",
       "      <td>&lt;=50K</td>\n",
       "    </tr>\n",
       "  </tbody>\n",
       "</table>\n",
       "</div>"
      ],
      "text/plain": [
       "   age          workclass   fnlwgt   education   education-num  \\\n",
       "0   39          State-gov    77516   Bachelors              13   \n",
       "1   50   Self-emp-not-inc    83311   Bachelors              13   \n",
       "2   38            Private   215646     HS-grad               9   \n",
       "3   53            Private   234721        11th               7   \n",
       "4   28            Private   338409   Bachelors              13   \n",
       "\n",
       "        marital-status          occupation    relationship    race      sex  \\\n",
       "0        Never-married        Adm-clerical   Not-in-family   White     Male   \n",
       "1   Married-civ-spouse     Exec-managerial         Husband   White     Male   \n",
       "2             Divorced   Handlers-cleaners   Not-in-family   White     Male   \n",
       "3   Married-civ-spouse   Handlers-cleaners         Husband   Black     Male   \n",
       "4   Married-civ-spouse      Prof-specialty            Wife   Black   Female   \n",
       "\n",
       "    capital-gain   capital-loss   hours-per-week  native-country  income  \n",
       "0           2174              0               40   United-States   <=50K  \n",
       "1              0              0               13   United-States   <=50K  \n",
       "2              0              0               40   United-States   <=50K  \n",
       "3              0              0               40   United-States   <=50K  \n",
       "4              0              0               40            Cuba   <=50K  "
      ]
     },
     "execution_count": 11,
     "metadata": {},
     "output_type": "execute_result"
    }
   ],
   "source": [
    "df = pd.read_csv('income_evaluation.csv')\n",
    "df.head()"
   ]
  },
  {
   "cell_type": "code",
   "execution_count": null,
   "id": "625092ee",
   "metadata": {},
   "outputs": [],
   "source": [
    "#melihat banyaknya fitur pada data set\n",
    "df.info()"
   ]
  },
  {
   "cell_type": "code",
   "execution_count": 12,
   "id": "36f5fc48",
   "metadata": {},
   "outputs": [],
   "source": [
    "# removing redundant spaces from column names\n",
    "df.columns = list(map(lambda a: a.lstrip(), df.columns))"
   ]
  },
  {
   "cell_type": "code",
   "execution_count": 13,
   "id": "fa79a6e7",
   "metadata": {},
   "outputs": [
    {
     "name": "stdout",
     "output_type": "stream",
     "text": [
      "There are no missing values in the data.\n"
     ]
    }
   ],
   "source": [
    " print('Check the data. Some values are missing.') if df.isnull().any().any() else print(\"There are no missing values in the data.\")"
   ]
  },
  {
   "cell_type": "code",
   "execution_count": 14,
   "id": "90169466",
   "metadata": {},
   "outputs": [
    {
     "data": {
      "text/plain": [
       " Private             22696\n",
       " Self-emp-not-inc     2541\n",
       " Local-gov            2093\n",
       " ?                    1836\n",
       " State-gov            1298\n",
       " Self-emp-inc         1116\n",
       " Federal-gov           960\n",
       " Without-pay            14\n",
       " Never-worked            7\n",
       "Name: workclass, dtype: int64"
      ]
     },
     "execution_count": 14,
     "metadata": {},
     "output_type": "execute_result"
    }
   ],
   "source": [
    "df['workclass'].value_counts()"
   ]
  },
  {
   "cell_type": "code",
   "execution_count": 15,
   "id": "437ad4bb",
   "metadata": {},
   "outputs": [
    {
     "name": "stdout",
     "output_type": "stream",
     "text": [
      "2399 rows have been removed.\n"
     ]
    }
   ],
   "source": [
    "shape0 = df.shape[0]\n",
    "for column in df.columns:\n",
    "    df[column].replace(' ?', np.NaN, inplace=True)\n",
    "df = df.dropna().reset_index().drop(columns=['index'])\n",
    "shape1 = df.shape[0]\n",
    "print(str(shape0 - shape1) + ' rows have been removed.')"
   ]
  },
  {
   "cell_type": "code",
   "execution_count": 16,
   "id": "6b0f5db2",
   "metadata": {},
   "outputs": [
    {
     "data": {
      "text/plain": [
       " Private             22286\n",
       " Self-emp-not-inc     2499\n",
       " Local-gov            2067\n",
       " State-gov            1279\n",
       " Self-emp-inc         1074\n",
       " Federal-gov           943\n",
       " Without-pay            14\n",
       "Name: workclass, dtype: int64"
      ]
     },
     "execution_count": 16,
     "metadata": {},
     "output_type": "execute_result"
    }
   ],
   "source": [
    "df['workclass'].value_counts()"
   ]
  },
  {
   "cell_type": "markdown",
   "id": "d1e308c6",
   "metadata": {},
   "source": [
    "# 1.1 Adjusting income column to binary type"
   ]
  },
  {
   "cell_type": "code",
   "execution_count": 17,
   "id": "2d44cec4",
   "metadata": {},
   "outputs": [
    {
     "data": {
      "text/plain": [
       " <=50K    22654\n",
       " >50K      7508\n",
       "Name: income, dtype: int64"
      ]
     },
     "execution_count": 17,
     "metadata": {},
     "output_type": "execute_result"
    }
   ],
   "source": [
    "income = df.income.value_counts()\n",
    "income"
   ]
  },
  {
   "cell_type": "code",
   "execution_count": 18,
   "id": "4aedc2c5",
   "metadata": {},
   "outputs": [
    {
     "data": {
      "text/plain": [
       "<matplotlib.legend.Legend at 0x2c24294d280>"
      ]
     },
     "execution_count": 18,
     "metadata": {},
     "output_type": "execute_result"
    },
    {
     "data": {
      "image/png": "[encoded data removed]",
      "text/plain": [
       "<Figure size 432x288 with 1 Axes>"
      ]
     },
     "metadata": {},
     "output_type": "display_data"
    }
   ],
   "source": [
    "colors = ['#ADEFD1FF', '#00203FFF']\n",
    "explode = [0, 0.1]\n",
    "plt.pie(income, labels=income.values, colors=colors, explode = explode, shadow=True)\n",
    "plt.title('Income distribution')\n",
    "plt.legend(labels=income.index)"
   ]
  },
  {
   "cell_type": "code",
   "execution_count": 19,
   "id": "613836a2",
   "metadata": {},
   "outputs": [],
   "source": [
    "# changing string to binary values.\n",
    "df['income'].replace([' <=50K',' >50K'],[1,0], inplace=True)"
   ]
  },
  {
   "cell_type": "markdown",
   "id": "5b6c2604",
   "metadata": {},
   "source": [
    "# 1.2 Creating correlation heatmap"
   ]
  },
  {
   "cell_type": "code",
   "execution_count": 20,
   "id": "fbd4acab",
   "metadata": {},
   "outputs": [
    {
     "data": {
      "text/plain": [
       "age                int64\n",
       "workclass         object\n",
       "fnlwgt             int64\n",
       "education         object\n",
       "education-num      int64\n",
       "marital-status    object\n",
       "occupation        object\n",
       "relationship      object\n",
       "race              object\n",
       "sex               object\n",
       "capital-gain       int64\n",
       "capital-loss       int64\n",
       "hours-per-week     int64\n",
       "native-country    object\n",
       "income             int64\n",
       "dtype: object"
      ]
     },
     "execution_count": 20,
     "metadata": {},
     "output_type": "execute_result"
    }
   ],
   "source": [
    "# checking types of variables\n",
    "df.dtypes"
   ]
  },
  {
   "cell_type": "code",
   "execution_count": 21,
   "id": "60ab756d",
   "metadata": {},
   "outputs": [],
   "source": [
    "# object type variables cannot be included in a correlation heatmap.\n",
    "stats = df.select_dtypes(['float', 'int64']).drop(columns=['income'])"
   ]
  },
  {
   "cell_type": "code",
   "execution_count": 23,
   "id": "717db6bd",
   "metadata": {},
   "outputs": [
    {
     "data": {
      "text/plain": [
       "<AxesSubplot:>"
      ]
     },
     "execution_count": 23,
     "metadata": {},
     "output_type": "execute_result"
    },
    {
     "data": {
      "image/png": "[encoded data removed]",
      "text/plain": [
       "<Figure size 432x288 with 2 Axes>"
      ]
     },
     "metadata": {
      "needs_background": "light"
     },
     "output_type": "display_data"
    }
   ],
   "source": [
    "# fig = plt.figure(figsize=(14,14))\n",
    "corr = stats.corr()\n",
    "sns.heatmap(corr,\n",
    "            vmin=-1, vmax=1, center=0, \n",
    "            cmap=sns.diverging_palette(h_neg=250, h_pos=15, as_cmap=True),\n",
    "            square=True, annot=True)"
   ]
  },
  {
   "cell_type": "markdown",
   "id": "ef97aaf8",
   "metadata": {},
   "source": [
    "# 1.2 Creating density functions and boxplots"
   ]
  },
  {
   "cell_type": "code",
   "execution_count": 24,
   "id": "0b32669c",
   "metadata": {},
   "outputs": [
    {
     "data": {
      "text/html": [
       "<div>\n",
       "<style scoped>\n",
       "    .dataframe tbody tr th:only-of-type {\n",
       "        vertical-align: middle;\n",
       "    }\n",
       "\n",
       "    .dataframe tbody tr th {\n",
       "        vertical-align: top;\n",
       "    }\n",
       "\n",
       "    .dataframe thead th {\n",
       "        text-align: right;\n",
       "    }\n",
       "</style>\n",
       "<table border=\"1\" class=\"dataframe\">\n",
       "  <thead>\n",
       "    <tr style=\"text-align: right;\">\n",
       "      <th></th>\n",
       "      <th>count</th>\n",
       "      <th>mean</th>\n",
       "      <th>std</th>\n",
       "      <th>min</th>\n",
       "      <th>25%</th>\n",
       "      <th>50%</th>\n",
       "      <th>75%</th>\n",
       "      <th>max</th>\n",
       "    </tr>\n",
       "  </thead>\n",
       "  <tbody>\n",
       "    <tr>\n",
       "      <th>age</th>\n",
       "      <td>30162.000</td>\n",
       "      <td>38.438</td>\n",
       "      <td>13.135</td>\n",
       "      <td>17.000</td>\n",
       "      <td>28.000</td>\n",
       "      <td>37.000</td>\n",
       "      <td>47.000</td>\n",
       "      <td>90.000</td>\n",
       "    </tr>\n",
       "    <tr>\n",
       "      <th>fnlwgt</th>\n",
       "      <td>30162.000</td>\n",
       "      <td>189793.834</td>\n",
       "      <td>105652.972</td>\n",
       "      <td>13769.000</td>\n",
       "      <td>117627.250</td>\n",
       "      <td>178425.000</td>\n",
       "      <td>237628.500</td>\n",
       "      <td>1484705.000</td>\n",
       "    </tr>\n",
       "    <tr>\n",
       "      <th>education-num</th>\n",
       "      <td>30162.000</td>\n",
       "      <td>10.121</td>\n",
       "      <td>2.550</td>\n",
       "      <td>1.000</td>\n",
       "      <td>9.000</td>\n",
       "      <td>10.000</td>\n",
       "      <td>13.000</td>\n",
       "      <td>16.000</td>\n",
       "    </tr>\n",
       "    <tr>\n",
       "      <th>capital-gain</th>\n",
       "      <td>30162.000</td>\n",
       "      <td>1092.008</td>\n",
       "      <td>7406.346</td>\n",
       "      <td>0.000</td>\n",
       "      <td>0.000</td>\n",
       "      <td>0.000</td>\n",
       "      <td>0.000</td>\n",
       "      <td>99999.000</td>\n",
       "    </tr>\n",
       "    <tr>\n",
       "      <th>capital-loss</th>\n",
       "      <td>30162.000</td>\n",
       "      <td>88.372</td>\n",
       "      <td>404.298</td>\n",
       "      <td>0.000</td>\n",
       "      <td>0.000</td>\n",
       "      <td>0.000</td>\n",
       "      <td>0.000</td>\n",
       "      <td>4356.000</td>\n",
       "    </tr>\n",
       "    <tr>\n",
       "      <th>hours-per-week</th>\n",
       "      <td>30162.000</td>\n",
       "      <td>40.931</td>\n",
       "      <td>11.980</td>\n",
       "      <td>1.000</td>\n",
       "      <td>40.000</td>\n",
       "      <td>40.000</td>\n",
       "      <td>45.000</td>\n",
       "      <td>99.000</td>\n",
       "    </tr>\n",
       "  </tbody>\n",
       "</table>\n",
       "</div>"
      ],
      "text/plain": [
       "                   count       mean        std       min        25%  \\\n",
       "age            30162.000     38.438     13.135    17.000     28.000   \n",
       "fnlwgt         30162.000 189793.834 105652.972 13769.000 117627.250   \n",
       "education-num  30162.000     10.121      2.550     1.000      9.000   \n",
       "capital-gain   30162.000   1092.008   7406.346     0.000      0.000   \n",
       "capital-loss   30162.000     88.372    404.298     0.000      0.000   \n",
       "hours-per-week 30162.000     40.931     11.980     1.000     40.000   \n",
       "\n",
       "                      50%        75%         max  \n",
       "age                37.000     47.000      90.000  \n",
       "fnlwgt         178425.000 237628.500 1484705.000  \n",
       "education-num      10.000     13.000      16.000  \n",
       "capital-gain        0.000      0.000   99999.000  \n",
       "capital-loss        0.000      0.000    4356.000  \n",
       "hours-per-week     40.000     45.000      99.000  "
      ]
     },
     "execution_count": 24,
     "metadata": {},
     "output_type": "execute_result"
    }
   ],
   "source": [
    "stats.describe().transpose()"
   ]
  },
  {
   "cell_type": "code",
   "execution_count": 25,
   "id": "1bcadecb",
   "metadata": {},
   "outputs": [
    {
     "data": {
      "image/png": "[encoded data removed]",
      "text/plain": [
       "<Figure size 864x2016 with 12 Axes>"
      ]
     },
     "metadata": {
      "needs_background": "light"
     },
     "output_type": "display_data"
    }
   ],
   "source": [
    "# creating graphs\n",
    "colors = list(sns.color_palette(\"Paired\"))\n",
    "fig, ax = plt.subplots(nrows=6, ncols=2, figsize=(12,28))\n",
    "for i in range(6):\n",
    "    sns.kdeplot(stats.iloc[:, i], \n",
    "                shade = True, \n",
    "                color = colors[i*2+1], \n",
    "                ax=ax[i, 0]).set(ylabel = '', xlabel = stats.columns[i])\n",
    "    \n",
    "    sns.boxplot(data=stats.iloc[:, i],\n",
    "                color = colors[i*2], orient=\"h\",\n",
    "                ax=ax[i, 1]).set(xlabel = '', ylabel = '')\n",
    "plt.show()"
   ]
  },
  {
   "cell_type": "markdown",
   "id": "c2beca34",
   "metadata": {},
   "source": [
    "# 2. Standardization and preparing variables"
   ]
  },
  {
   "cell_type": "code",
   "execution_count": 26,
   "id": "8bbf43ba",
   "metadata": {},
   "outputs": [
    {
     "data": {
      "text/html": [
       "<div>\n",
       "<style scoped>\n",
       "    .dataframe tbody tr th:only-of-type {\n",
       "        vertical-align: middle;\n",
       "    }\n",
       "\n",
       "    .dataframe tbody tr th {\n",
       "        vertical-align: top;\n",
       "    }\n",
       "\n",
       "    .dataframe thead th {\n",
       "        text-align: right;\n",
       "    }\n",
       "</style>\n",
       "<table border=\"1\" class=\"dataframe\">\n",
       "  <thead>\n",
       "    <tr style=\"text-align: right;\">\n",
       "      <th></th>\n",
       "      <th>age</th>\n",
       "      <th>fnlwgt</th>\n",
       "      <th>education-num</th>\n",
       "      <th>capital-gain</th>\n",
       "      <th>capital-loss</th>\n",
       "      <th>hours-per-week</th>\n",
       "      <th>income</th>\n",
       "      <th>workclass_ Federal-gov</th>\n",
       "      <th>workclass_ Local-gov</th>\n",
       "      <th>workclass_ Private</th>\n",
       "      <th>...</th>\n",
       "      <th>native-country_ Portugal</th>\n",
       "      <th>native-country_ Puerto-Rico</th>\n",
       "      <th>native-country_ Scotland</th>\n",
       "      <th>native-country_ South</th>\n",
       "      <th>native-country_ Taiwan</th>\n",
       "      <th>native-country_ Thailand</th>\n",
       "      <th>native-country_ Trinadad&amp;Tobago</th>\n",
       "      <th>native-country_ United-States</th>\n",
       "      <th>native-country_ Vietnam</th>\n",
       "      <th>native-country_ Yugoslavia</th>\n",
       "    </tr>\n",
       "  </thead>\n",
       "  <tbody>\n",
       "    <tr>\n",
       "      <th>0</th>\n",
       "      <td>39</td>\n",
       "      <td>77516</td>\n",
       "      <td>13</td>\n",
       "      <td>2174</td>\n",
       "      <td>0</td>\n",
       "      <td>40</td>\n",
       "      <td>1</td>\n",
       "      <td>0</td>\n",
       "      <td>0</td>\n",
       "      <td>0</td>\n",
       "      <td>...</td>\n",
       "      <td>0</td>\n",
       "      <td>0</td>\n",
       "      <td>0</td>\n",
       "      <td>0</td>\n",
       "      <td>0</td>\n",
       "      <td>0</td>\n",
       "      <td>0</td>\n",
       "      <td>1</td>\n",
       "      <td>0</td>\n",
       "      <td>0</td>\n",
       "    </tr>\n",
       "    <tr>\n",
       "      <th>1</th>\n",
       "      <td>50</td>\n",
       "      <td>83311</td>\n",
       "      <td>13</td>\n",
       "      <td>0</td>\n",
       "      <td>0</td>\n",
       "      <td>13</td>\n",
       "      <td>1</td>\n",
       "      <td>0</td>\n",
       "      <td>0</td>\n",
       "      <td>0</td>\n",
       "      <td>...</td>\n",
       "      <td>0</td>\n",
       "      <td>0</td>\n",
       "      <td>0</td>\n",
       "      <td>0</td>\n",
       "      <td>0</td>\n",
       "      <td>0</td>\n",
       "      <td>0</td>\n",
       "      <td>1</td>\n",
       "      <td>0</td>\n",
       "      <td>0</td>\n",
       "    </tr>\n",
       "    <tr>\n",
       "      <th>2</th>\n",
       "      <td>38</td>\n",
       "      <td>215646</td>\n",
       "      <td>9</td>\n",
       "      <td>0</td>\n",
       "      <td>0</td>\n",
       "      <td>40</td>\n",
       "      <td>1</td>\n",
       "      <td>0</td>\n",
       "      <td>0</td>\n",
       "      <td>1</td>\n",
       "      <td>...</td>\n",
       "      <td>0</td>\n",
       "      <td>0</td>\n",
       "      <td>0</td>\n",
       "      <td>0</td>\n",
       "      <td>0</td>\n",
       "      <td>0</td>\n",
       "      <td>0</td>\n",
       "      <td>1</td>\n",
       "      <td>0</td>\n",
       "      <td>0</td>\n",
       "    </tr>\n",
       "    <tr>\n",
       "      <th>3</th>\n",
       "      <td>53</td>\n",
       "      <td>234721</td>\n",
       "      <td>7</td>\n",
       "      <td>0</td>\n",
       "      <td>0</td>\n",
       "      <td>40</td>\n",
       "      <td>1</td>\n",
       "      <td>0</td>\n",
       "      <td>0</td>\n",
       "      <td>1</td>\n",
       "      <td>...</td>\n",
       "      <td>0</td>\n",
       "      <td>0</td>\n",
       "      <td>0</td>\n",
       "      <td>0</td>\n",
       "      <td>0</td>\n",
       "      <td>0</td>\n",
       "      <td>0</td>\n",
       "      <td>1</td>\n",
       "      <td>0</td>\n",
       "      <td>0</td>\n",
       "    </tr>\n",
       "    <tr>\n",
       "      <th>4</th>\n",
       "      <td>28</td>\n",
       "      <td>338409</td>\n",
       "      <td>13</td>\n",
       "      <td>0</td>\n",
       "      <td>0</td>\n",
       "      <td>40</td>\n",
       "      <td>1</td>\n",
       "      <td>0</td>\n",
       "      <td>0</td>\n",
       "      <td>1</td>\n",
       "      <td>...</td>\n",
       "      <td>0</td>\n",
       "      <td>0</td>\n",
       "      <td>0</td>\n",
       "      <td>0</td>\n",
       "      <td>0</td>\n",
       "      <td>0</td>\n",
       "      <td>0</td>\n",
       "      <td>0</td>\n",
       "      <td>0</td>\n",
       "      <td>0</td>\n",
       "    </tr>\n",
       "  </tbody>\n",
       "</table>\n",
       "<p>5 rows × 105 columns</p>\n",
       "</div>"
      ],
      "text/plain": [
       "   age  fnlwgt  education-num  capital-gain  capital-loss  hours-per-week  \\\n",
       "0   39   77516             13          2174             0              40   \n",
       "1   50   83311             13             0             0              13   \n",
       "2   38  215646              9             0             0              40   \n",
       "3   53  234721              7             0             0              40   \n",
       "4   28  338409             13             0             0              40   \n",
       "\n",
       "   income  workclass_ Federal-gov  workclass_ Local-gov  workclass_ Private  \\\n",
       "0       1                       0                     0                   0   \n",
       "1       1                       0                     0                   0   \n",
       "2       1                       0                     0                   1   \n",
       "3       1                       0                     0                   1   \n",
       "4       1                       0                     0                   1   \n",
       "\n",
       "   ...  native-country_ Portugal  native-country_ Puerto-Rico  \\\n",
       "0  ...                         0                            0   \n",
       "1  ...                         0                            0   \n",
       "2  ...                         0                            0   \n",
       "3  ...                         0                            0   \n",
       "4  ...                         0                            0   \n",
       "\n",
       "   native-country_ Scotland  native-country_ South  native-country_ Taiwan  \\\n",
       "0                         0                      0                       0   \n",
       "1                         0                      0                       0   \n",
       "2                         0                      0                       0   \n",
       "3                         0                      0                       0   \n",
       "4                         0                      0                       0   \n",
       "\n",
       "   native-country_ Thailand  native-country_ Trinadad&Tobago  \\\n",
       "0                         0                                0   \n",
       "1                         0                                0   \n",
       "2                         0                                0   \n",
       "3                         0                                0   \n",
       "4                         0                                0   \n",
       "\n",
       "   native-country_ United-States  native-country_ Vietnam  \\\n",
       "0                              1                        0   \n",
       "1                              1                        0   \n",
       "2                              1                        0   \n",
       "3                              1                        0   \n",
       "4                              0                        0   \n",
       "\n",
       "   native-country_ Yugoslavia  \n",
       "0                           0  \n",
       "1                           0  \n",
       "2                           0  \n",
       "3                           0  \n",
       "4                           0  \n",
       "\n",
       "[5 rows x 105 columns]"
      ]
     },
     "execution_count": 26,
     "metadata": {},
     "output_type": "execute_result"
    }
   ],
   "source": [
    "df_final = pd.get_dummies(df)\n",
    "df_final.head()"
   ]
  },
  {
   "cell_type": "code",
   "execution_count": 27,
   "id": "0d5d6610",
   "metadata": {},
   "outputs": [],
   "source": [
    "X = df_final.drop(columns=['income'])\n",
    "y = df_final['income']"
   ]
  },
  {
   "cell_type": "code",
   "execution_count": 28,
   "id": "d9a12f35",
   "metadata": {},
   "outputs": [],
   "source": [
    "X_train, X_test, y_train, y_test = train_test_split(X, y, test_size=0.3)"
   ]
  },
  {
   "cell_type": "code",
   "execution_count": 29,
   "id": "7f4ac7f0",
   "metadata": {},
   "outputs": [],
   "source": [
    "# creating scaler and new standardized train and test data frames.\n",
    "scaler = MinMaxScaler()\n",
    "\n",
    "X_train_numeral = scaler.fit_transform(X_train.select_dtypes(['float', 'int64']))\n",
    "X_train_s = pd.concat([pd.DataFrame(X_train_numeral, index=X_train.index, columns=X_train.columns[:6]), \n",
    "                       X_train.iloc[:, 6:]], axis=1)\n",
    "\n",
    "X_test_numeral = scaler.transform(X_test.select_dtypes(['float', 'int64']))\n",
    "X_test_s = pd.concat([pd.DataFrame(X_test_numeral, index=X_test.index, columns=X_test.columns[:6]),\n",
    "                      X_test.iloc[:, 6:]], axis=1)"
   ]
  },
  {
   "cell_type": "code",
   "execution_count": 30,
   "id": "f310eb09",
   "metadata": {},
   "outputs": [
    {
     "data": {
      "text/html": [
       "<div>\n",
       "<style scoped>\n",
       "    .dataframe tbody tr th:only-of-type {\n",
       "        vertical-align: middle;\n",
       "    }\n",
       "\n",
       "    .dataframe tbody tr th {\n",
       "        vertical-align: top;\n",
       "    }\n",
       "\n",
       "    .dataframe thead th {\n",
       "        text-align: right;\n",
       "    }\n",
       "</style>\n",
       "<table border=\"1\" class=\"dataframe\">\n",
       "  <thead>\n",
       "    <tr style=\"text-align: right;\">\n",
       "      <th></th>\n",
       "      <th>age</th>\n",
       "      <th>fnlwgt</th>\n",
       "      <th>education-num</th>\n",
       "      <th>capital-gain</th>\n",
       "      <th>capital-loss</th>\n",
       "      <th>hours-per-week</th>\n",
       "      <th>workclass_ Federal-gov</th>\n",
       "      <th>workclass_ Local-gov</th>\n",
       "      <th>workclass_ Private</th>\n",
       "      <th>workclass_ Self-emp-inc</th>\n",
       "      <th>...</th>\n",
       "      <th>native-country_ Portugal</th>\n",
       "      <th>native-country_ Puerto-Rico</th>\n",
       "      <th>native-country_ Scotland</th>\n",
       "      <th>native-country_ South</th>\n",
       "      <th>native-country_ Taiwan</th>\n",
       "      <th>native-country_ Thailand</th>\n",
       "      <th>native-country_ Trinadad&amp;Tobago</th>\n",
       "      <th>native-country_ United-States</th>\n",
       "      <th>native-country_ Vietnam</th>\n",
       "      <th>native-country_ Yugoslavia</th>\n",
       "    </tr>\n",
       "  </thead>\n",
       "  <tbody>\n",
       "    <tr>\n",
       "      <th>26888</th>\n",
       "      <td>47</td>\n",
       "      <td>235986</td>\n",
       "      <td>9</td>\n",
       "      <td>0</td>\n",
       "      <td>0</td>\n",
       "      <td>50</td>\n",
       "      <td>0</td>\n",
       "      <td>0</td>\n",
       "      <td>1</td>\n",
       "      <td>0</td>\n",
       "      <td>...</td>\n",
       "      <td>0</td>\n",
       "      <td>0</td>\n",
       "      <td>0</td>\n",
       "      <td>0</td>\n",
       "      <td>0</td>\n",
       "      <td>0</td>\n",
       "      <td>0</td>\n",
       "      <td>0</td>\n",
       "      <td>0</td>\n",
       "      <td>0</td>\n",
       "    </tr>\n",
       "    <tr>\n",
       "      <th>13237</th>\n",
       "      <td>53</td>\n",
       "      <td>39643</td>\n",
       "      <td>9</td>\n",
       "      <td>0</td>\n",
       "      <td>0</td>\n",
       "      <td>58</td>\n",
       "      <td>1</td>\n",
       "      <td>0</td>\n",
       "      <td>0</td>\n",
       "      <td>0</td>\n",
       "      <td>...</td>\n",
       "      <td>0</td>\n",
       "      <td>0</td>\n",
       "      <td>0</td>\n",
       "      <td>0</td>\n",
       "      <td>0</td>\n",
       "      <td>0</td>\n",
       "      <td>0</td>\n",
       "      <td>1</td>\n",
       "      <td>0</td>\n",
       "      <td>0</td>\n",
       "    </tr>\n",
       "    <tr>\n",
       "      <th>5619</th>\n",
       "      <td>33</td>\n",
       "      <td>34080</td>\n",
       "      <td>10</td>\n",
       "      <td>0</td>\n",
       "      <td>0</td>\n",
       "      <td>40</td>\n",
       "      <td>0</td>\n",
       "      <td>1</td>\n",
       "      <td>0</td>\n",
       "      <td>0</td>\n",
       "      <td>...</td>\n",
       "      <td>0</td>\n",
       "      <td>0</td>\n",
       "      <td>0</td>\n",
       "      <td>0</td>\n",
       "      <td>0</td>\n",
       "      <td>0</td>\n",
       "      <td>0</td>\n",
       "      <td>1</td>\n",
       "      <td>0</td>\n",
       "      <td>0</td>\n",
       "    </tr>\n",
       "    <tr>\n",
       "      <th>518</th>\n",
       "      <td>24</td>\n",
       "      <td>82804</td>\n",
       "      <td>9</td>\n",
       "      <td>0</td>\n",
       "      <td>0</td>\n",
       "      <td>40</td>\n",
       "      <td>0</td>\n",
       "      <td>0</td>\n",
       "      <td>1</td>\n",
       "      <td>0</td>\n",
       "      <td>...</td>\n",
       "      <td>0</td>\n",
       "      <td>0</td>\n",
       "      <td>0</td>\n",
       "      <td>0</td>\n",
       "      <td>0</td>\n",
       "      <td>0</td>\n",
       "      <td>0</td>\n",
       "      <td>1</td>\n",
       "      <td>0</td>\n",
       "      <td>0</td>\n",
       "    </tr>\n",
       "    <tr>\n",
       "      <th>16267</th>\n",
       "      <td>25</td>\n",
       "      <td>137645</td>\n",
       "      <td>13</td>\n",
       "      <td>0</td>\n",
       "      <td>0</td>\n",
       "      <td>40</td>\n",
       "      <td>0</td>\n",
       "      <td>0</td>\n",
       "      <td>1</td>\n",
       "      <td>0</td>\n",
       "      <td>...</td>\n",
       "      <td>0</td>\n",
       "      <td>0</td>\n",
       "      <td>0</td>\n",
       "      <td>0</td>\n",
       "      <td>0</td>\n",
       "      <td>0</td>\n",
       "      <td>0</td>\n",
       "      <td>1</td>\n",
       "      <td>0</td>\n",
       "      <td>0</td>\n",
       "    </tr>\n",
       "  </tbody>\n",
       "</table>\n",
       "<p>5 rows × 104 columns</p>\n",
       "</div>"
      ],
      "text/plain": [
       "       age  fnlwgt  education-num  capital-gain  capital-loss  hours-per-week  \\\n",
       "26888   47  235986              9             0             0              50   \n",
       "13237   53   39643              9             0             0              58   \n",
       "5619    33   34080             10             0             0              40   \n",
       "518     24   82804              9             0             0              40   \n",
       "16267   25  137645             13             0             0              40   \n",
       "\n",
       "       workclass_ Federal-gov  workclass_ Local-gov  workclass_ Private  \\\n",
       "26888                       0                     0                   1   \n",
       "13237                       1                     0                   0   \n",
       "5619                        0                     1                   0   \n",
       "518                         0                     0                   1   \n",
       "16267                       0                     0                   1   \n",
       "\n",
       "       workclass_ Self-emp-inc  ...  native-country_ Portugal  \\\n",
       "26888                        0  ...                         0   \n",
       "13237                        0  ...                         0   \n",
       "5619                         0  ...                         0   \n",
       "518                          0  ...                         0   \n",
       "16267                        0  ...                         0   \n",
       "\n",
       "       native-country_ Puerto-Rico  native-country_ Scotland  \\\n",
       "26888                            0                         0   \n",
       "13237                            0                         0   \n",
       "5619                             0                         0   \n",
       "518                              0                         0   \n",
       "16267                            0                         0   \n",
       "\n",
       "       native-country_ South  native-country_ Taiwan  \\\n",
       "26888                      0                       0   \n",
       "13237                      0                       0   \n",
       "5619                       0                       0   \n",
       "518                        0                       0   \n",
       "16267                      0                       0   \n",
       "\n",
       "       native-country_ Thailand  native-country_ Trinadad&Tobago  \\\n",
       "26888                         0                                0   \n",
       "13237                         0                                0   \n",
       "5619                          0                                0   \n",
       "518                           0                                0   \n",
       "16267                         0                                0   \n",
       "\n",
       "       native-country_ United-States  native-country_ Vietnam  \\\n",
       "26888                              0                        0   \n",
       "13237                              1                        0   \n",
       "5619                               1                        0   \n",
       "518                                1                        0   \n",
       "16267                              1                        0   \n",
       "\n",
       "       native-country_ Yugoslavia  \n",
       "26888                           0  \n",
       "13237                           0  \n",
       "5619                            0  \n",
       "518                             0  \n",
       "16267                           0  \n",
       "\n",
       "[5 rows x 104 columns]"
      ]
     },
     "execution_count": 30,
     "metadata": {},
     "output_type": "execute_result"
    }
   ],
   "source": [
    "X_train.head()"
   ]
  },
  {
   "cell_type": "code",
   "execution_count": 31,
   "id": "8e6d63ce",
   "metadata": {},
   "outputs": [],
   "source": [
    "# function responsible for fitting and predicting algorithms given through lists.\n",
    "def algoritm_score_list(show_processing=False, standardized=False):\n",
    "    scores_list = []\n",
    "\n",
    "    for algorithm in algorithms:\n",
    "        if show_processing:\n",
    "            print('processing ' + str(algorithm) + ' algorithm...')\n",
    "\n",
    "        if standardized:\n",
    "            X_tn = X_train_s\n",
    "            X_tt = X_test_s\n",
    "        else:\n",
    "            X_tn = X_train\n",
    "            X_tt = X_test\n",
    "            \n",
    "        A = algorithm.fit(X_tn, y_train)\n",
    "        y_predict = A.predict(X_tt)\n",
    "        accuracy = accuracy_score(y_test,y_predict)\n",
    "\n",
    "        scores_list.append([A, accuracy, standardized])\n",
    "        \n",
    "    print('all predictions finished')\n",
    "    return scores_list"
   ]
  },
  {
   "cell_type": "markdown",
   "id": "ff59cd8e",
   "metadata": {},
   "source": [
    "# 3. Modeling"
   ]
  },
  {
   "cell_type": "code",
   "execution_count": 32,
   "id": "01422ca3",
   "metadata": {},
   "outputs": [],
   "source": [
    "algorithms = [DecisionTreeClassifier(),\n",
    "              LogisticRegression(solver='liblinear'), \n",
    "              KNeighborsClassifier()]"
   ]
  },
  {
   "cell_type": "code",
   "execution_count": 33,
   "id": "96349a2e",
   "metadata": {},
   "outputs": [
    {
     "name": "stdout",
     "output_type": "stream",
     "text": [
      "all predictions finished\n"
     ]
    }
   ],
   "source": [
    "# default algorithms\n",
    "default_alg = algoritm_score_list()"
   ]
  },
  {
   "cell_type": "code",
   "execution_count": 34,
   "id": "0eb17dd0",
   "metadata": {},
   "outputs": [
    {
     "name": "stdout",
     "output_type": "stream",
     "text": [
      "all predictions finished\n"
     ]
    }
   ],
   "source": [
    "# default algorithms, standardized data\n",
    "default_alg_s = algoritm_score_list(standardized=True)"
   ]
  },
  {
   "cell_type": "code",
   "execution_count": 35,
   "id": "9ddb584b",
   "metadata": {},
   "outputs": [
    {
     "data": {
      "text/html": [
       "<div>\n",
       "<style scoped>\n",
       "    .dataframe tbody tr th:only-of-type {\n",
       "        vertical-align: middle;\n",
       "    }\n",
       "\n",
       "    .dataframe tbody tr th {\n",
       "        vertical-align: top;\n",
       "    }\n",
       "\n",
       "    .dataframe thead th {\n",
       "        text-align: right;\n",
       "    }\n",
       "</style>\n",
       "<table border=\"1\" class=\"dataframe\">\n",
       "  <thead>\n",
       "    <tr style=\"text-align: right;\">\n",
       "      <th></th>\n",
       "      <th>algorithm</th>\n",
       "      <th>accuracy</th>\n",
       "      <th>standardized</th>\n",
       "    </tr>\n",
       "  </thead>\n",
       "  <tbody>\n",
       "    <tr>\n",
       "      <th>4</th>\n",
       "      <td>LogisticRegression(solver='liblinear')</td>\n",
       "      <td>0.849</td>\n",
       "      <td>True</td>\n",
       "    </tr>\n",
       "    <tr>\n",
       "      <th>5</th>\n",
       "      <td>KNeighborsClassifier()</td>\n",
       "      <td>0.819</td>\n",
       "      <td>True</td>\n",
       "    </tr>\n",
       "    <tr>\n",
       "      <th>0</th>\n",
       "      <td>DecisionTreeClassifier()</td>\n",
       "      <td>0.808</td>\n",
       "      <td>False</td>\n",
       "    </tr>\n",
       "    <tr>\n",
       "      <th>3</th>\n",
       "      <td>DecisionTreeClassifier()</td>\n",
       "      <td>0.807</td>\n",
       "      <td>True</td>\n",
       "    </tr>\n",
       "    <tr>\n",
       "      <th>1</th>\n",
       "      <td>LogisticRegression(solver='liblinear')</td>\n",
       "      <td>0.789</td>\n",
       "      <td>False</td>\n",
       "    </tr>\n",
       "    <tr>\n",
       "      <th>2</th>\n",
       "      <td>KNeighborsClassifier()</td>\n",
       "      <td>0.765</td>\n",
       "      <td>False</td>\n",
       "    </tr>\n",
       "  </tbody>\n",
       "</table>\n",
       "</div>"
      ],
      "text/plain": [
       "                                algorithm  accuracy  standardized\n",
       "4  LogisticRegression(solver='liblinear')     0.849          True\n",
       "5                  KNeighborsClassifier()     0.819          True\n",
       "0                DecisionTreeClassifier()     0.808         False\n",
       "3                DecisionTreeClassifier()     0.807          True\n",
       "1  LogisticRegression(solver='liblinear')     0.789         False\n",
       "2                  KNeighborsClassifier()     0.765         False"
      ]
     },
     "execution_count": 35,
     "metadata": {},
     "output_type": "execute_result"
    }
   ],
   "source": [
    "df_alg = pd.DataFrame(default_alg, columns=['algorithm', 'accuracy', 'standardized'])\n",
    "df_alg = pd.concat([df_alg, \n",
    "                    pd.DataFrame(default_alg_s, columns=['algorithm', 'accuracy', 'standardized'])], \n",
    "                   axis=0, \n",
    "                   ignore_index=True)\n",
    "df_alg.sort_values(by='accuracy', ascending=False)"
   ]
  },
  {
   "cell_type": "markdown",
   "id": "29a61ecc",
   "metadata": {},
   "source": [
    "# 3.1 Tuning DecisionTree"
   ]
  },
  {
   "cell_type": "markdown",
   "id": "f0d64438",
   "metadata": {},
   "source": [
    "# 3.1.1 max_depth"
   ]
  },
  {
   "cell_type": "code",
   "execution_count": 36,
   "id": "82fb9fe6",
   "metadata": {},
   "outputs": [
    {
     "name": "stdout",
     "output_type": "stream",
     "text": [
      "all predictions finished\n"
     ]
    }
   ],
   "source": [
    "# max_depth in already created DT\n",
    "depth = default_alg[0][0].get_depth()\n",
    "\n",
    "algorithms = []\n",
    "for i in range(1, depth+1):\n",
    "    algorithms.append(DecisionTreeClassifier(max_depth=i))\n",
    "score_list = algoritm_score_list()"
   ]
  },
  {
   "cell_type": "code",
   "execution_count": 37,
   "id": "6a5b1828",
   "metadata": {},
   "outputs": [
    {
     "data": {
      "text/plain": [
       "[<matplotlib.lines.Line2D at 0x2c24459c1f0>]"
      ]
     },
     "execution_count": 37,
     "metadata": {},
     "output_type": "execute_result"
    },
    {
     "data": {
      "image/png": "[encoded data removed]",
      "text/plain": [
       "<Figure size 504x504 with 1 Axes>"
      ]
     },
     "metadata": {
      "needs_background": "light"
     },
     "output_type": "display_data"
    }
   ],
   "source": [
    "scores = list(map(lambda a: a[1], score_list))\n",
    "fig = plt.figure(figsize=(7, 7))\n",
    "plt.grid(b=True)\n",
    "sns.lineplot(x=range(1, depth+1), y=scores)\n",
    "plt.plot(scores.index(max(scores)) + 1, max(scores), \"or\")"
   ]
  },
  {
   "cell_type": "code",
   "execution_count": 38,
   "id": "a830c94f",
   "metadata": {},
   "outputs": [
    {
     "name": "stdout",
     "output_type": "stream",
     "text": [
      "The best algorithm: DecisionTreeClassifier(max_depth=7), its accuracy: 0.85\n"
     ]
    }
   ],
   "source": [
    "print('The best algorithm: DecisionTreeClassifier(max_depth={}), its accuracy: {}'.format(scores.index(max(scores)) + 1, round(max(scores), 3)))"
   ]
  },
  {
   "cell_type": "markdown",
   "id": "70303b19",
   "metadata": {},
   "source": [
    "# 3.1.2 min_samples_leaf"
   ]
  },
  {
   "cell_type": "code",
   "execution_count": 39,
   "id": "90d6933d",
   "metadata": {},
   "outputs": [
    {
     "data": {
      "text/plain": [
       "1"
      ]
     },
     "execution_count": 39,
     "metadata": {},
     "output_type": "execute_result"
    }
   ],
   "source": [
    "# min_samples_leaf in already created DT\n",
    "default_alg[0][0].get_params()['min_samples_leaf']"
   ]
  },
  {
   "cell_type": "code",
   "execution_count": 40,
   "id": "dc676a09",
   "metadata": {},
   "outputs": [
    {
     "name": "stdout",
     "output_type": "stream",
     "text": [
      "all predictions finished\n"
     ]
    }
   ],
   "source": [
    "algorithms = []\n",
    "for i in range(1, 202, 5):\n",
    "    algorithms.append(DecisionTreeClassifier(min_samples_leaf=i))\n",
    "score_list = algoritm_score_list()"
   ]
  },
  {
   "cell_type": "code",
   "execution_count": 41,
   "id": "e51edea1",
   "metadata": {},
   "outputs": [
    {
     "data": {
      "text/plain": [
       "[<matplotlib.lines.Line2D at 0x2c244cfe850>]"
      ]
     },
     "execution_count": 41,
     "metadata": {},
     "output_type": "execute_result"
    },
    {
     "data": {
      "image/png": "[encoded data removed]",
      "text/plain": [
       "<Figure size 504x504 with 1 Axes>"
      ]
     },
     "metadata": {
      "needs_background": "light"
     },
     "output_type": "display_data"
    }
   ],
   "source": [
    "scores = list(map(lambda a: a[1], score_list))\n",
    "fig = plt.figure(figsize=(7, 7))\n",
    "plt.grid(b=True)\n",
    "sns.lineplot(x=range(1, 202, 5), y=scores)\n",
    "plt.plot(scores.index(max(scores))*5 + 1, max(scores), \"or\")"
   ]
  },
  {
   "cell_type": "code",
   "execution_count": 42,
   "id": "aefa59eb",
   "metadata": {},
   "outputs": [
    {
     "name": "stdout",
     "output_type": "stream",
     "text": [
      "The best algorithm: DecisionTreeClassifier(min_samples_leaf=66), its accuracy: 0.848\n"
     ]
    }
   ],
   "source": [
    "print('The best algorithm: DecisionTreeClassifier(min_samples_leaf={}), its accuracy: {}'.format(scores.index(max(scores))*5 + 1, round(max(scores), 3)))"
   ]
  },
  {
   "cell_type": "markdown",
   "id": "d02dc004",
   "metadata": {},
   "source": [
    "# 3.1.3 max_depth and min_samples_leaf"
   ]
  },
  {
   "cell_type": "code",
   "execution_count": 43,
   "id": "e15e3b81",
   "metadata": {},
   "outputs": [
    {
     "name": "stdout",
     "output_type": "stream",
     "text": [
      "all predictions finished\n"
     ]
    }
   ],
   "source": [
    "algorithms = []\n",
    "for i in range(4, 30, 3):\n",
    "    for j in range(45, 86, 5):\n",
    "         algorithms.append(DecisionTreeClassifier(max_depth=i, min_samples_leaf=j))\n",
    "score_list = algoritm_score_list()"
   ]
  },
  {
   "cell_type": "code",
   "execution_count": 44,
   "id": "a9677afe",
   "metadata": {},
   "outputs": [],
   "source": [
    "max_depth = list(map(lambda a: a[0].get_params()['max_depth'], score_list))\n",
    "min_samples_leaf = list(map(lambda a: a[0].get_params()['min_samples_leaf'], score_list))\n",
    "scores = list(map(lambda a: a[1], score_list))\n",
    "\n",
    "df = pd.DataFrame(np.array([max_depth, min_samples_leaf, scores]).T, \n",
    "                  columns=['max_depth', 'min_s_l', 'scores'])"
   ]
  },
  {
   "cell_type": "code",
   "execution_count": 45,
   "id": "e62fd780",
   "metadata": {},
   "outputs": [
    {
     "data": {
      "text/plain": [
       "<matplotlib.legend.Legend at 0x2c24455da60>"
      ]
     },
     "execution_count": 45,
     "metadata": {},
     "output_type": "execute_result"
    },
    {
     "data": {
      "image/png": "[encoded data removed]",
      "text/plain": [
       "<Figure size 504x504 with 1 Axes>"
      ]
     },
     "metadata": {
      "needs_background": "light"
     },
     "output_type": "display_data"
    }
   ],
   "source": [
    "fig = plt.figure(figsize=(7, 7))\n",
    "sns.scatterplot(x=df['max_depth'], y=df['min_s_l'], hue=df['scores'], s=300)\n",
    "plt.legend(loc='lower left')"
   ]
  },
  {
   "cell_type": "code",
   "execution_count": 46,
   "id": "4c45a751",
   "metadata": {},
   "outputs": [
    {
     "name": "stdout",
     "output_type": "stream",
     "text": [
      "The best algorithm: DecisionTreeClassifier(max_depth=10, min_samples_leaf=55), its accuracy: 0.849\n"
     ]
    }
   ],
   "source": [
    "best = scores.index(max(scores))\n",
    "m_d = max_depth[best]\n",
    "m_s_l = min_samples_leaf[best]\n",
    "print('The best algorithm: DecisionTreeClassifier(max_depth={}, min_samples_leaf={}), its accuracy: {}'.format(m_d, m_s_l, round(max(scores), 3)))"
   ]
  },
  {
   "cell_type": "markdown",
   "id": "4dc84acb",
   "metadata": {},
   "source": [
    "# 3.1.4 criterion"
   ]
  },
  {
   "cell_type": "code",
   "execution_count": 47,
   "id": "b1246cd9",
   "metadata": {},
   "outputs": [
    {
     "name": "stdout",
     "output_type": "stream",
     "text": [
      "all predictions finished\n",
      "criterion: gini, score: 0.807.\n",
      "criterion: entropy, score: 0.808.\n"
     ]
    }
   ],
   "source": [
    "algorithms = [DecisionTreeClassifier(criterion='gini'), DecisionTreeClassifier(criterion='entropy')]\n",
    "score_list = algoritm_score_list()   \n",
    "print('criterion: gini, score: {}.'.format(str(round(score_list[0][1], 3))))\n",
    "print('criterion: entropy, score: {}.'.format(str(round(score_list[1][1], 3))))"
   ]
  },
  {
   "cell_type": "markdown",
   "id": "21299bb4",
   "metadata": {},
   "source": [
    "# 3.1.5 Algorithms comparison"
   ]
  },
  {
   "cell_type": "code",
   "execution_count": 48,
   "id": "5a091517",
   "metadata": {},
   "outputs": [
    {
     "name": "stdout",
     "output_type": "stream",
     "text": [
      "all predictions finished\n"
     ]
    },
    {
     "data": {
      "text/html": [
       "<div>\n",
       "<style scoped>\n",
       "    .dataframe tbody tr th:only-of-type {\n",
       "        vertical-align: middle;\n",
       "    }\n",
       "\n",
       "    .dataframe tbody tr th {\n",
       "        vertical-align: top;\n",
       "    }\n",
       "\n",
       "    .dataframe thead th {\n",
       "        text-align: right;\n",
       "    }\n",
       "</style>\n",
       "<table border=\"1\" class=\"dataframe\">\n",
       "  <thead>\n",
       "    <tr style=\"text-align: right;\">\n",
       "      <th></th>\n",
       "      <th>algorithm</th>\n",
       "      <th>accuracy</th>\n",
       "      <th>standardized</th>\n",
       "    </tr>\n",
       "  </thead>\n",
       "  <tbody>\n",
       "    <tr>\n",
       "      <th>0</th>\n",
       "      <td>DecisionTreeClassifier(max_depth=9)</td>\n",
       "      <td>0.846</td>\n",
       "      <td>False</td>\n",
       "    </tr>\n",
       "    <tr>\n",
       "      <th>1</th>\n",
       "      <td>DecisionTreeClassifier(min_samples_leaf=66)</td>\n",
       "      <td>0.848</td>\n",
       "      <td>False</td>\n",
       "    </tr>\n",
       "    <tr>\n",
       "      <th>2</th>\n",
       "      <td>DecisionTreeClassifier(max_depth=16, min_sampl...</td>\n",
       "      <td>0.849</td>\n",
       "      <td>False</td>\n",
       "    </tr>\n",
       "  </tbody>\n",
       "</table>\n",
       "</div>"
      ],
      "text/plain": [
       "                                           algorithm  accuracy  standardized\n",
       "0                DecisionTreeClassifier(max_depth=9)     0.846         False\n",
       "1        DecisionTreeClassifier(min_samples_leaf=66)     0.848         False\n",
       "2  DecisionTreeClassifier(max_depth=16, min_sampl...     0.849         False"
      ]
     },
     "execution_count": 48,
     "metadata": {},
     "output_type": "execute_result"
    }
   ],
   "source": [
    "algorithms = [DecisionTreeClassifier(criterion='gini', max_depth=9), \n",
    "              DecisionTreeClassifier(criterion='gini', min_samples_leaf=66), \n",
    "              DecisionTreeClassifier(criterion='gini', max_depth=16, min_samples_leaf=65)]\n",
    "df_DT = pd.DataFrame(algoritm_score_list(), columns=['algorithm', 'accuracy', 'standardized'])\n",
    "df_DT"
   ]
  },
  {
   "cell_type": "markdown",
   "id": "99594782",
   "metadata": {},
   "source": [
    "# 3.2 Tuning LogisticRegression"
   ]
  },
  {
   "cell_type": "code",
   "execution_count": 49,
   "id": "463863f3",
   "metadata": {},
   "outputs": [
    {
     "name": "stdout",
     "output_type": "stream",
     "text": [
      "all predictions finished\n"
     ]
    },
    {
     "data": {
      "text/html": [
       "<div>\n",
       "<style scoped>\n",
       "    .dataframe tbody tr th:only-of-type {\n",
       "        vertical-align: middle;\n",
       "    }\n",
       "\n",
       "    .dataframe tbody tr th {\n",
       "        vertical-align: top;\n",
       "    }\n",
       "\n",
       "    .dataframe thead th {\n",
       "        text-align: right;\n",
       "    }\n",
       "</style>\n",
       "<table border=\"1\" class=\"dataframe\">\n",
       "  <thead>\n",
       "    <tr style=\"text-align: right;\">\n",
       "      <th></th>\n",
       "      <th>algorithm</th>\n",
       "      <th>accuracy</th>\n",
       "      <th>standardized</th>\n",
       "    </tr>\n",
       "  </thead>\n",
       "  <tbody>\n",
       "    <tr>\n",
       "      <th>0</th>\n",
       "      <td>LogisticRegression(penalty='l1', solver='libli...</td>\n",
       "      <td>0.850</td>\n",
       "      <td>True</td>\n",
       "    </tr>\n",
       "    <tr>\n",
       "      <th>1</th>\n",
       "      <td>LogisticRegression(solver='liblinear')</td>\n",
       "      <td>0.849</td>\n",
       "      <td>True</td>\n",
       "    </tr>\n",
       "  </tbody>\n",
       "</table>\n",
       "</div>"
      ],
      "text/plain": [
       "                                           algorithm  accuracy  standardized\n",
       "0  LogisticRegression(penalty='l1', solver='libli...     0.850          True\n",
       "1             LogisticRegression(solver='liblinear')     0.849          True"
      ]
     },
     "execution_count": 49,
     "metadata": {},
     "output_type": "execute_result"
    }
   ],
   "source": [
    "algorithms = []\n",
    "for p in ['l1', 'l2']:\n",
    "    algorithms.append(LogisticRegression(solver='liblinear', penalty=p))\n",
    "    \n",
    "df_LR_penalty = pd.DataFrame(algoritm_score_list(standardized=True), columns=['algorithm', 'accuracy', 'standardized'])\n",
    "df_LR_penalty"
   ]
  },
  {
   "cell_type": "code",
   "execution_count": 50,
   "id": "9fbef590",
   "metadata": {},
   "outputs": [
    {
     "name": "stdout",
     "output_type": "stream",
     "text": [
      "all predictions finished\n"
     ]
    },
    {
     "data": {
      "text/html": [
       "<div>\n",
       "<style scoped>\n",
       "    .dataframe tbody tr th:only-of-type {\n",
       "        vertical-align: middle;\n",
       "    }\n",
       "\n",
       "    .dataframe tbody tr th {\n",
       "        vertical-align: top;\n",
       "    }\n",
       "\n",
       "    .dataframe thead th {\n",
       "        text-align: right;\n",
       "    }\n",
       "</style>\n",
       "<table border=\"1\" class=\"dataframe\">\n",
       "  <thead>\n",
       "    <tr style=\"text-align: right;\">\n",
       "      <th></th>\n",
       "      <th>algorithm</th>\n",
       "      <th>accuracy</th>\n",
       "      <th>standardized</th>\n",
       "    </tr>\n",
       "  </thead>\n",
       "  <tbody>\n",
       "    <tr>\n",
       "      <th>0</th>\n",
       "      <td>LogisticRegression(C=100, penalty='l1', solver...</td>\n",
       "      <td>0.850</td>\n",
       "      <td>True</td>\n",
       "    </tr>\n",
       "    <tr>\n",
       "      <th>1</th>\n",
       "      <td>LogisticRegression(C=10, penalty='l1', solver=...</td>\n",
       "      <td>0.849</td>\n",
       "      <td>True</td>\n",
       "    </tr>\n",
       "    <tr>\n",
       "      <th>2</th>\n",
       "      <td>LogisticRegression(penalty='l1', solver='libli...</td>\n",
       "      <td>0.850</td>\n",
       "      <td>True</td>\n",
       "    </tr>\n",
       "    <tr>\n",
       "      <th>3</th>\n",
       "      <td>LogisticRegression(C=0.1, penalty='l1', solver...</td>\n",
       "      <td>0.849</td>\n",
       "      <td>True</td>\n",
       "    </tr>\n",
       "    <tr>\n",
       "      <th>4</th>\n",
       "      <td>LogisticRegression(C=0.01, penalty='l1', solve...</td>\n",
       "      <td>0.819</td>\n",
       "      <td>True</td>\n",
       "    </tr>\n",
       "  </tbody>\n",
       "</table>\n",
       "</div>"
      ],
      "text/plain": [
       "                                           algorithm  accuracy  standardized\n",
       "0  LogisticRegression(C=100, penalty='l1', solver...     0.850          True\n",
       "1  LogisticRegression(C=10, penalty='l1', solver=...     0.849          True\n",
       "2  LogisticRegression(penalty='l1', solver='libli...     0.850          True\n",
       "3  LogisticRegression(C=0.1, penalty='l1', solver...     0.849          True\n",
       "4  LogisticRegression(C=0.01, penalty='l1', solve...     0.819          True"
      ]
     },
     "execution_count": 50,
     "metadata": {},
     "output_type": "execute_result"
    }
   ],
   "source": [
    "algorithms = []\n",
    "for c in [100, 10, 1.0, 0.1, 0.01]:\n",
    "    algorithms.append(LogisticRegression(solver='liblinear', penalty='l1', C=c))\n",
    "\n",
    "df_LR = pd.DataFrame(algoritm_score_list(standardized=True), columns=['algorithm', 'accuracy', 'standardized'])\n",
    "df_LR"
   ]
  },
  {
   "cell_type": "markdown",
   "id": "217038bd",
   "metadata": {},
   "source": [
    "# 3.3 Tuning KNeighborsClassifier"
   ]
  },
  {
   "cell_type": "code",
   "execution_count": 51,
   "id": "8f7b1462",
   "metadata": {},
   "outputs": [
    {
     "name": "stdout",
     "output_type": "stream",
     "text": [
      "all predictions finished\n"
     ]
    },
    {
     "data": {
      "text/html": [
       "<div>\n",
       "<style scoped>\n",
       "    .dataframe tbody tr th:only-of-type {\n",
       "        vertical-align: middle;\n",
       "    }\n",
       "\n",
       "    .dataframe tbody tr th {\n",
       "        vertical-align: top;\n",
       "    }\n",
       "\n",
       "    .dataframe thead th {\n",
       "        text-align: right;\n",
       "    }\n",
       "</style>\n",
       "<table border=\"1\" class=\"dataframe\">\n",
       "  <thead>\n",
       "    <tr style=\"text-align: right;\">\n",
       "      <th></th>\n",
       "      <th>algorithm</th>\n",
       "      <th>accuracy</th>\n",
       "      <th>standardized</th>\n",
       "    </tr>\n",
       "  </thead>\n",
       "  <tbody>\n",
       "    <tr>\n",
       "      <th>0</th>\n",
       "      <td>KNeighborsClassifier()</td>\n",
       "      <td>0.819</td>\n",
       "      <td>True</td>\n",
       "    </tr>\n",
       "    <tr>\n",
       "      <th>1</th>\n",
       "      <td>KNeighborsClassifier(weights='distance')</td>\n",
       "      <td>0.813</td>\n",
       "      <td>True</td>\n",
       "    </tr>\n",
       "  </tbody>\n",
       "</table>\n",
       "</div>"
      ],
      "text/plain": [
       "                                  algorithm  accuracy  standardized\n",
       "0                    KNeighborsClassifier()     0.819          True\n",
       "1  KNeighborsClassifier(weights='distance')     0.813          True"
      ]
     },
     "execution_count": 51,
     "metadata": {},
     "output_type": "execute_result"
    }
   ],
   "source": [
    "algorithms = [KNeighborsClassifier(weights='uniform'), \n",
    "              KNeighborsClassifier(weights='distance')]\n",
    "df_KN_weights = pd.DataFrame(algoritm_score_list(standardized=True), columns=['algorithm', 'accuracy', 'standardized'])\n",
    "df_KN_weights"
   ]
  },
  {
   "cell_type": "code",
   "execution_count": 52,
   "id": "61e93dfa",
   "metadata": {},
   "outputs": [
    {
     "name": "stdout",
     "output_type": "stream",
     "text": [
      "all predictions finished\n"
     ]
    }
   ],
   "source": [
    "algorithms = []\n",
    "for i in range(1, 50, 5):\n",
    "    algorithms.append(KNeighborsClassifier(n_neighbors=i))\n",
    "    \n",
    "df_KN_n_neighbors = pd.DataFrame(algoritm_score_list(standardized=True), columns=['algorithm', 'accuracy', 'standardized'])"
   ]
  },
  {
   "cell_type": "code",
   "execution_count": 53,
   "id": "d8f2619e",
   "metadata": {},
   "outputs": [
    {
     "data": {
      "text/plain": [
       "[<matplotlib.lines.Line2D at 0x2c243d5ec40>]"
      ]
     },
     "execution_count": 53,
     "metadata": {},
     "output_type": "execute_result"
    },
    {
     "data": {
      "image/png": "[encoded data removed]",
      "text/plain": [
       "<Figure size 504x504 with 1 Axes>"
      ]
     },
     "metadata": {
      "needs_background": "light"
     },
     "output_type": "display_data"
    }
   ],
   "source": [
    "fig = plt.figure(figsize=(7, 7))\n",
    "plt.grid(b=True)\n",
    "sns.lineplot(x=range(1, 50, 5), y=df_KN_n_neighbors['accuracy'])\n",
    "plt.plot(df_KN_n_neighbors[df_KN_n_neighbors['accuracy'] == max(df_KN_n_neighbors['accuracy'])].index.values[0]*5+1,\n",
    "         max(df_KN_n_neighbors['accuracy']),\n",
    "         \"or\")"
   ]
  },
  {
   "cell_type": "markdown",
   "id": "782a104a",
   "metadata": {},
   "source": [
    "# 4 Final comparison and summary"
   ]
  },
  {
   "cell_type": "code",
   "execution_count": 54,
   "id": "8154ee01",
   "metadata": {},
   "outputs": [
    {
     "name": "stdout",
     "output_type": "stream",
     "text": [
      "all predictions finished\n"
     ]
    }
   ],
   "source": [
    "algorithms = [DecisionTreeClassifier(), \n",
    "              DecisionTreeClassifier(criterion='gini', max_depth=16, min_samples_leaf=65),\n",
    "              LogisticRegression(solver='liblinear'), \n",
    "              LogisticRegression(C=10, penalty='l1', solver='liblinear'),\n",
    "              KNeighborsClassifier(), \n",
    "              KNeighborsClassifier(n_neighbors=46)]\n",
    "\n",
    "final_list = algoritm_score_list()"
   ]
  },
  {
   "cell_type": "code",
   "execution_count": 55,
   "id": "48549a45",
   "metadata": {},
   "outputs": [
    {
     "name": "stdout",
     "output_type": "stream",
     "text": [
      "all predictions finished\n"
     ]
    }
   ],
   "source": [
    "algorithms = [DecisionTreeClassifier(), \n",
    "              DecisionTreeClassifier(criterion='gini', max_depth=16, min_samples_leaf=65),\n",
    "              LogisticRegression(solver='liblinear'), \n",
    "              LogisticRegression(C=10, penalty='l1', solver='liblinear'),\n",
    "              KNeighborsClassifier(), \n",
    "              KNeighborsClassifier(n_neighbors=46)]\n",
    "final_list = final_list + algoritm_score_list(standardized=True)"
   ]
  },
  {
   "cell_type": "code",
   "execution_count": 56,
   "id": "5c4e939e",
   "metadata": {},
   "outputs": [
    {
     "data": {
      "text/html": [
       "<div>\n",
       "<style scoped>\n",
       "    .dataframe tbody tr th:only-of-type {\n",
       "        vertical-align: middle;\n",
       "    }\n",
       "\n",
       "    .dataframe tbody tr th {\n",
       "        vertical-align: top;\n",
       "    }\n",
       "\n",
       "    .dataframe thead th {\n",
       "        text-align: right;\n",
       "    }\n",
       "</style>\n",
       "<table border=\"1\" class=\"dataframe\">\n",
       "  <thead>\n",
       "    <tr style=\"text-align: right;\">\n",
       "      <th></th>\n",
       "      <th>algorithm</th>\n",
       "      <th>accuracy</th>\n",
       "      <th>standardized</th>\n",
       "    </tr>\n",
       "  </thead>\n",
       "  <tbody>\n",
       "    <tr>\n",
       "      <th>3</th>\n",
       "      <td>LogisticRegression(C=10, penalty='l1', solver=...</td>\n",
       "      <td>0.850</td>\n",
       "      <td>False</td>\n",
       "    </tr>\n",
       "    <tr>\n",
       "      <th>9</th>\n",
       "      <td>LogisticRegression(C=10, penalty='l1', solver=...</td>\n",
       "      <td>0.849</td>\n",
       "      <td>True</td>\n",
       "    </tr>\n",
       "    <tr>\n",
       "      <th>8</th>\n",
       "      <td>LogisticRegression(solver='liblinear')</td>\n",
       "      <td>0.849</td>\n",
       "      <td>True</td>\n",
       "    </tr>\n",
       "    <tr>\n",
       "      <th>1</th>\n",
       "      <td>DecisionTreeClassifier(max_depth=16, min_sampl...</td>\n",
       "      <td>0.849</td>\n",
       "      <td>False</td>\n",
       "    </tr>\n",
       "    <tr>\n",
       "      <th>7</th>\n",
       "      <td>DecisionTreeClassifier(max_depth=16, min_sampl...</td>\n",
       "      <td>0.849</td>\n",
       "      <td>True</td>\n",
       "    </tr>\n",
       "    <tr>\n",
       "      <th>11</th>\n",
       "      <td>KNeighborsClassifier(n_neighbors=46)</td>\n",
       "      <td>0.831</td>\n",
       "      <td>True</td>\n",
       "    </tr>\n",
       "    <tr>\n",
       "      <th>10</th>\n",
       "      <td>KNeighborsClassifier()</td>\n",
       "      <td>0.819</td>\n",
       "      <td>True</td>\n",
       "    </tr>\n",
       "    <tr>\n",
       "      <th>0</th>\n",
       "      <td>DecisionTreeClassifier()</td>\n",
       "      <td>0.809</td>\n",
       "      <td>False</td>\n",
       "    </tr>\n",
       "    <tr>\n",
       "      <th>6</th>\n",
       "      <td>DecisionTreeClassifier()</td>\n",
       "      <td>0.805</td>\n",
       "      <td>True</td>\n",
       "    </tr>\n",
       "    <tr>\n",
       "      <th>2</th>\n",
       "      <td>LogisticRegression(solver='liblinear')</td>\n",
       "      <td>0.789</td>\n",
       "      <td>False</td>\n",
       "    </tr>\n",
       "    <tr>\n",
       "      <th>5</th>\n",
       "      <td>KNeighborsClassifier(n_neighbors=46)</td>\n",
       "      <td>0.787</td>\n",
       "      <td>False</td>\n",
       "    </tr>\n",
       "    <tr>\n",
       "      <th>4</th>\n",
       "      <td>KNeighborsClassifier()</td>\n",
       "      <td>0.765</td>\n",
       "      <td>False</td>\n",
       "    </tr>\n",
       "  </tbody>\n",
       "</table>\n",
       "</div>"
      ],
      "text/plain": [
       "                                            algorithm  accuracy  standardized\n",
       "3   LogisticRegression(C=10, penalty='l1', solver=...     0.850         False\n",
       "9   LogisticRegression(C=10, penalty='l1', solver=...     0.849          True\n",
       "8              LogisticRegression(solver='liblinear')     0.849          True\n",
       "1   DecisionTreeClassifier(max_depth=16, min_sampl...     0.849         False\n",
       "7   DecisionTreeClassifier(max_depth=16, min_sampl...     0.849          True\n",
       "11               KNeighborsClassifier(n_neighbors=46)     0.831          True\n",
       "10                             KNeighborsClassifier()     0.819          True\n",
       "0                            DecisionTreeClassifier()     0.809         False\n",
       "6                            DecisionTreeClassifier()     0.805          True\n",
       "2              LogisticRegression(solver='liblinear')     0.789         False\n",
       "5                KNeighborsClassifier(n_neighbors=46)     0.787         False\n",
       "4                              KNeighborsClassifier()     0.765         False"
      ]
     },
     "execution_count": 56,
     "metadata": {},
     "output_type": "execute_result"
    }
   ],
   "source": [
    "final_df = pd.DataFrame(final_list, columns=['algorithm', 'accuracy', 'standardized'])\n",
    "final_df.head(12).sort_values(by='accuracy', ascending=False)"
   ]
  },
  {
   "cell_type": "code",
   "execution_count": null,
   "id": "2087d29a",
   "metadata": {},
   "outputs": [],
   "source": []
  }
 ],
 "metadata": {
  "kernelspec": {
   "display_name": "Python 3 (ipykernel)",
   "language": "python",
   "name": "python3"
  },
  "language_info": {
   "codemirror_mode": {
    "name": "ipython",
    "version": 3
   },
   "file_extension": ".py",
   "mimetype": "text/x-python",
   "name": "python",
   "nbconvert_exporter": "python",
   "pygments_lexer": "ipython3",
   "version": "3.9.7"
  }
 },
 "nbformat": 4,
 "nbformat_minor": 5
}
